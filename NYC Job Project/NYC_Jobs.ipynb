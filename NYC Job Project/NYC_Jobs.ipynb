{
  "metadata": {
    "kernelspec": {
      "name": "python",
      "display_name": "Python (Pyodide)",
      "language": "python"
    },
    "language_info": {
      "codemirror_mode": {
        "name": "python",
        "version": 3
      },
      "file_extension": ".py",
      "mimetype": "text/x-python",
      "name": "python",
      "nbconvert_exporter": "python",
      "pygments_lexer": "ipython3",
      "version": "3.8"
    }
  },
  "nbformat_minor": 5,
  "nbformat": 4,
  "cells": [
    {
      "id": "cc92a829-6624-43b7-bf31-a7d6a11ed7a1",
      "cell_type": "code",
      "source": "import numpy as np\nimport pandas as pd\n\npd.set_option('display.max_columns', None)",
      "metadata": {
        "trusted": true
      },
      "outputs": [],
      "execution_count": 83
    },
    {
      "id": "df45f56f-e49d-41e6-8e25-dbde17282707",
      "cell_type": "code",
      "source": "df0 = pd.read_csv('NYC_Jobs.csv')\ndf0.head(10)\n",
      "metadata": {
        "trusted": true
      },
      "outputs": [
        {
          "execution_count": 64,
          "output_type": "execute_result",
          "data": {
            "text/plain": "   Job ID             Civil Service Title                          Agency  \\\n0  544477     ADM CONSTRUCTION PRJ MGR-NM    DEPARTMENT OF TRANSPORTATION   \n1  459790  ADM MANAGER-NON-MGRL FRM M1/M2     HRA/DEPT OF SOCIAL SERVICES   \n2  272382  ASSOCIATE PUBLIC HEALTH SANITA  DEPT OF ENVIRONMENT PROTECTION   \n3  539975  ADMINISTRATIVE DIRECTOR OF RES       ADMIN FOR CHILDREN'S SVCS   \n4  547692             COMMUNITY ASSOCIATE         BRONX DISTRICT ATTORNEY   \n5  539169              CLERICAL ASSOCIATE   DEPT OF HEALTH/MENTAL HYGIENE   \n6  533017  ADMINISTRATIVE STAFF ANALYST (               POLICE DEPARTMENT   \n7  530985                       ECONOMIST   DEPT OF HEALTH/MENTAL HYGIENE   \n8  544430                   STAFF ANALYST           NYC HOUSING AUTHORITY   \n9  508504     CHILD AND FAMILY SPECIALIST       ADMIN FOR CHILDREN'S SVCS   \n\n  Posting Type                                       Job Category  \\\n0     External              Engineering, Architecture, & Planning   \n1     Internal  Administration & Human Resources Constituent S...   \n2     Internal          Public Safety, Inspections, & Enforcement   \n3     External                                    Social Services   \n4     External  Administration & Human Resources Legal Affairs...   \n5     External           Health Building Operations & Maintenance   \n6     External         Communications & Intergovernmental Affairs   \n7     Internal          Finance, Accounting, & Procurement Health   \n8     External                 Finance, Accounting, & Procurement   \n9     Internal                                    Social Services   \n\n   Salary Range From  Salary Range To  \n0         53702.0000        146121.00  \n1         76270.0000         98830.00  \n2         60673.0000         91795.00  \n3         80000.0000         84000.00  \n4         60000.0000         60000.00  \n5            17.9803            20.68  \n6         94715.0000        136260.00  \n7         56013.0000         65000.00  \n8         62470.0000         80008.00  \n9         73027.0000         87622.00  ",
            "text/html": "<div>\n<style scoped>\n    .dataframe tbody tr th:only-of-type {\n        vertical-align: middle;\n    }\n\n    .dataframe tbody tr th {\n        vertical-align: top;\n    }\n\n    .dataframe thead th {\n        text-align: right;\n    }\n</style>\n<table border=\"1\" class=\"dataframe\">\n  <thead>\n    <tr style=\"text-align: right;\">\n      <th></th>\n      <th>Job ID</th>\n      <th>Civil Service Title</th>\n      <th>Agency</th>\n      <th>Posting Type</th>\n      <th>Job Category</th>\n      <th>Salary Range From</th>\n      <th>Salary Range To</th>\n    </tr>\n  </thead>\n  <tbody>\n    <tr>\n      <th>0</th>\n      <td>544477</td>\n      <td>ADM CONSTRUCTION PRJ MGR-NM</td>\n      <td>DEPARTMENT OF TRANSPORTATION</td>\n      <td>External</td>\n      <td>Engineering, Architecture, &amp; Planning</td>\n      <td>53702.0000</td>\n      <td>146121.00</td>\n    </tr>\n    <tr>\n      <th>1</th>\n      <td>459790</td>\n      <td>ADM MANAGER-NON-MGRL FRM M1/M2</td>\n      <td>HRA/DEPT OF SOCIAL SERVICES</td>\n      <td>Internal</td>\n      <td>Administration &amp; Human Resources Constituent S...</td>\n      <td>76270.0000</td>\n      <td>98830.00</td>\n    </tr>\n    <tr>\n      <th>2</th>\n      <td>272382</td>\n      <td>ASSOCIATE PUBLIC HEALTH SANITA</td>\n      <td>DEPT OF ENVIRONMENT PROTECTION</td>\n      <td>Internal</td>\n      <td>Public Safety, Inspections, &amp; Enforcement</td>\n      <td>60673.0000</td>\n      <td>91795.00</td>\n    </tr>\n    <tr>\n      <th>3</th>\n      <td>539975</td>\n      <td>ADMINISTRATIVE DIRECTOR OF RES</td>\n      <td>ADMIN FOR CHILDREN'S SVCS</td>\n      <td>External</td>\n      <td>Social Services</td>\n      <td>80000.0000</td>\n      <td>84000.00</td>\n    </tr>\n    <tr>\n      <th>4</th>\n      <td>547692</td>\n      <td>COMMUNITY ASSOCIATE</td>\n      <td>BRONX DISTRICT ATTORNEY</td>\n      <td>External</td>\n      <td>Administration &amp; Human Resources Legal Affairs...</td>\n      <td>60000.0000</td>\n      <td>60000.00</td>\n    </tr>\n    <tr>\n      <th>5</th>\n      <td>539169</td>\n      <td>CLERICAL ASSOCIATE</td>\n      <td>DEPT OF HEALTH/MENTAL HYGIENE</td>\n      <td>External</td>\n      <td>Health Building Operations &amp; Maintenance</td>\n      <td>17.9803</td>\n      <td>20.68</td>\n    </tr>\n    <tr>\n      <th>6</th>\n      <td>533017</td>\n      <td>ADMINISTRATIVE STAFF ANALYST (</td>\n      <td>POLICE DEPARTMENT</td>\n      <td>External</td>\n      <td>Communications &amp; Intergovernmental Affairs</td>\n      <td>94715.0000</td>\n      <td>136260.00</td>\n    </tr>\n    <tr>\n      <th>7</th>\n      <td>530985</td>\n      <td>ECONOMIST</td>\n      <td>DEPT OF HEALTH/MENTAL HYGIENE</td>\n      <td>Internal</td>\n      <td>Finance, Accounting, &amp; Procurement Health</td>\n      <td>56013.0000</td>\n      <td>65000.00</td>\n    </tr>\n    <tr>\n      <th>8</th>\n      <td>544430</td>\n      <td>STAFF ANALYST</td>\n      <td>NYC HOUSING AUTHORITY</td>\n      <td>External</td>\n      <td>Finance, Accounting, &amp; Procurement</td>\n      <td>62470.0000</td>\n      <td>80008.00</td>\n    </tr>\n    <tr>\n      <th>9</th>\n      <td>508504</td>\n      <td>CHILD AND FAMILY SPECIALIST</td>\n      <td>ADMIN FOR CHILDREN'S SVCS</td>\n      <td>Internal</td>\n      <td>Social Services</td>\n      <td>73027.0000</td>\n      <td>87622.00</td>\n    </tr>\n  </tbody>\n</table>\n</div>"
          },
          "metadata": {}
        }
      ],
      "execution_count": 64
    },
    {
      "id": "0101b42a-0c1c-4fac-9490-052a40412941",
      "cell_type": "code",
      "source": "df0.info()",
      "metadata": {
        "trusted": true
      },
      "outputs": [
        {
          "name": "stdout",
          "output_type": "stream",
          "text": "<class 'pandas.core.frame.DataFrame'>\nRangeIndex: 5222 entries, 0 to 5221\nData columns (total 7 columns):\n #   Column               Non-Null Count  Dtype  \n---  ------               --------------  -----  \n 0   Job ID               5222 non-null   int64  \n 1   Civil Service Title  5222 non-null   object \n 2   Agency               5222 non-null   object \n 3   Posting Type         5222 non-null   object \n 4   Job Category         5220 non-null   object \n 5   Salary Range From    5222 non-null   float64\n 6   Salary Range To      5222 non-null   float64\ndtypes: float64(2), int64(1), object(4)\nmemory usage: 204.1+ KB\n"
        }
      ],
      "execution_count": 65
    },
    {
      "id": "f295c2a2-4062-4469-a5ff-20ea3ab1e304",
      "cell_type": "code",
      "source": "df0.describe()",
      "metadata": {
        "trusted": true
      },
      "outputs": [
        {
          "execution_count": 66,
          "output_type": "execute_result",
          "data": {
            "text/plain": "              Job ID  Salary Range From  Salary Range To\ncount    5222.000000        5222.000000      5222.000000\nmean   527865.015703       61803.948414     83460.340026\nstd     42885.174255       30371.353344     43463.990760\nmin     87990.000000           0.000000        15.450000\n25%    529098.000000       49390.000000     60000.000000\n50%    538038.000000       59422.000000     80478.000000\n75%    546676.000000       75504.000000    105000.000000\nmax    552937.000000      270000.000000    300000.000000",
            "text/html": "<div>\n<style scoped>\n    .dataframe tbody tr th:only-of-type {\n        vertical-align: middle;\n    }\n\n    .dataframe tbody tr th {\n        vertical-align: top;\n    }\n\n    .dataframe thead th {\n        text-align: right;\n    }\n</style>\n<table border=\"1\" class=\"dataframe\">\n  <thead>\n    <tr style=\"text-align: right;\">\n      <th></th>\n      <th>Job ID</th>\n      <th>Salary Range From</th>\n      <th>Salary Range To</th>\n    </tr>\n  </thead>\n  <tbody>\n    <tr>\n      <th>count</th>\n      <td>5222.000000</td>\n      <td>5222.000000</td>\n      <td>5222.000000</td>\n    </tr>\n    <tr>\n      <th>mean</th>\n      <td>527865.015703</td>\n      <td>61803.948414</td>\n      <td>83460.340026</td>\n    </tr>\n    <tr>\n      <th>std</th>\n      <td>42885.174255</td>\n      <td>30371.353344</td>\n      <td>43463.990760</td>\n    </tr>\n    <tr>\n      <th>min</th>\n      <td>87990.000000</td>\n      <td>0.000000</td>\n      <td>15.450000</td>\n    </tr>\n    <tr>\n      <th>25%</th>\n      <td>529098.000000</td>\n      <td>49390.000000</td>\n      <td>60000.000000</td>\n    </tr>\n    <tr>\n      <th>50%</th>\n      <td>538038.000000</td>\n      <td>59422.000000</td>\n      <td>80478.000000</td>\n    </tr>\n    <tr>\n      <th>75%</th>\n      <td>546676.000000</td>\n      <td>75504.000000</td>\n      <td>105000.000000</td>\n    </tr>\n    <tr>\n      <th>max</th>\n      <td>552937.000000</td>\n      <td>270000.000000</td>\n      <td>300000.000000</td>\n    </tr>\n  </tbody>\n</table>\n</div>"
          },
          "metadata": {}
        }
      ],
      "execution_count": 66
    },
    {
      "id": "77ec8b25-91b8-4f51-8d0a-4d68ec5c280c",
      "cell_type": "code",
      "source": "df0.shape",
      "metadata": {
        "trusted": true
      },
      "outputs": [
        {
          "execution_count": 67,
          "output_type": "execute_result",
          "data": {
            "text/plain": "(5222, 7)"
          },
          "metadata": {}
        }
      ],
      "execution_count": 67
    },
    {
      "id": "7feacb39-a7bb-41b2-b8d7-a692ea779e9c",
      "cell_type": "code",
      "source": "df0.groupby(\"Agency\")",
      "metadata": {
        "trusted": true
      },
      "outputs": [
        {
          "execution_count": 68,
          "output_type": "execute_result",
          "data": {
            "text/plain": "<pandas.core.groupby.generic.DataFrameGroupBy object at 0x7d80870>"
          },
          "metadata": {}
        }
      ],
      "execution_count": 68
    },
    {
      "id": "bd349719-d82f-4642-8fd3-907e9a14a297",
      "cell_type": "code",
      "source": "df0.groupby(\"Agency\").mean",
      "metadata": {
        "trusted": true
      },
      "outputs": [
        {
          "execution_count": 69,
          "output_type": "execute_result",
          "data": {
            "text/plain": "<bound method GroupBy.mean of <pandas.core.groupby.generic.DataFrameGroupBy object at 0x7ecbd38>>"
          },
          "metadata": {}
        }
      ],
      "execution_count": 69
    },
    {
      "id": "11d4647f-3c8a-4df3-99ed-48b76b177e81",
      "cell_type": "code",
      "source": "nmot = \"numeric_only = True\"\ndf0.groupby(\"Agency\").mean(nmot)",
      "metadata": {
        "trusted": true
      },
      "outputs": [
        {
          "execution_count": 74,
          "output_type": "execute_result",
          "data": {
            "text/plain": "                                      Job ID  Salary Range From  \\\nAgency                                                            \nADMIN FOR CHILDREN'S SVCS      515238.697509       61308.827796   \nADMIN TRIALS AND HEARINGS      536373.680000       51942.021832   \nBOARD OF CORRECTION            547391.500000       79986.000000   \nBOROUGH PRESIDENT-BRONX        549363.000000       47270.000000   \nBOROUGH PRESIDENT-QUEENS       544519.000000       38333.000000   \n...                                      ...                ...   \nPUBLIC ADMINISTRATOR-NEW YORK  504896.600000       40635.000000   \nTAX COMMISSION                 534907.666667       65884.500000   \nTAXI & LIMOUSINE COMMISSION    539298.990654       57665.176516   \nTEACHERS RETIREMENT SYSTEM     549284.923077       47378.230769   \nTECHNOLOGY & INNOVATION        510742.894737       46557.265263   \n\n                               Salary Range To  \nAgency                                          \nADMIN FOR CHILDREN'S SVCS         77320.662018  \nADMIN TRIALS AND HEARINGS         60145.169200  \nBOARD OF CORRECTION               93000.000000  \nBOROUGH PRESIDENT-BRONX          153151.000000  \nBOROUGH PRESIDENT-QUEENS          63794.000000  \n...                                        ...  \nPUBLIC ADMINISTRATOR-NEW YORK     60905.000000  \nTAX COMMISSION                    75073.966667  \nTAXI & LIMOUSINE COMMISSION       78581.827411  \nTEACHERS RETIREMENT SYSTEM        75694.846154  \nTECHNOLOGY & INNOVATION           70109.265263  \n\n[61 rows x 3 columns]",
            "text/html": "<div>\n<style scoped>\n    .dataframe tbody tr th:only-of-type {\n        vertical-align: middle;\n    }\n\n    .dataframe tbody tr th {\n        vertical-align: top;\n    }\n\n    .dataframe thead th {\n        text-align: right;\n    }\n</style>\n<table border=\"1\" class=\"dataframe\">\n  <thead>\n    <tr style=\"text-align: right;\">\n      <th></th>\n      <th>Job ID</th>\n      <th>Salary Range From</th>\n      <th>Salary Range To</th>\n    </tr>\n    <tr>\n      <th>Agency</th>\n      <th></th>\n      <th></th>\n      <th></th>\n    </tr>\n  </thead>\n  <tbody>\n    <tr>\n      <th>ADMIN FOR CHILDREN'S SVCS</th>\n      <td>515238.697509</td>\n      <td>61308.827796</td>\n      <td>77320.662018</td>\n    </tr>\n    <tr>\n      <th>ADMIN TRIALS AND HEARINGS</th>\n      <td>536373.680000</td>\n      <td>51942.021832</td>\n      <td>60145.169200</td>\n    </tr>\n    <tr>\n      <th>BOARD OF CORRECTION</th>\n      <td>547391.500000</td>\n      <td>79986.000000</td>\n      <td>93000.000000</td>\n    </tr>\n    <tr>\n      <th>BOROUGH PRESIDENT-BRONX</th>\n      <td>549363.000000</td>\n      <td>47270.000000</td>\n      <td>153151.000000</td>\n    </tr>\n    <tr>\n      <th>BOROUGH PRESIDENT-QUEENS</th>\n      <td>544519.000000</td>\n      <td>38333.000000</td>\n      <td>63794.000000</td>\n    </tr>\n    <tr>\n      <th>...</th>\n      <td>...</td>\n      <td>...</td>\n      <td>...</td>\n    </tr>\n    <tr>\n      <th>PUBLIC ADMINISTRATOR-NEW YORK</th>\n      <td>504896.600000</td>\n      <td>40635.000000</td>\n      <td>60905.000000</td>\n    </tr>\n    <tr>\n      <th>TAX COMMISSION</th>\n      <td>534907.666667</td>\n      <td>65884.500000</td>\n      <td>75073.966667</td>\n    </tr>\n    <tr>\n      <th>TAXI &amp; LIMOUSINE COMMISSION</th>\n      <td>539298.990654</td>\n      <td>57665.176516</td>\n      <td>78581.827411</td>\n    </tr>\n    <tr>\n      <th>TEACHERS RETIREMENT SYSTEM</th>\n      <td>549284.923077</td>\n      <td>47378.230769</td>\n      <td>75694.846154</td>\n    </tr>\n    <tr>\n      <th>TECHNOLOGY &amp; INNOVATION</th>\n      <td>510742.894737</td>\n      <td>46557.265263</td>\n      <td>70109.265263</td>\n    </tr>\n  </tbody>\n</table>\n<p>61 rows × 3 columns</p>\n</div>"
          },
          "metadata": {}
        }
      ],
      "execution_count": 74
    },
    {
      "id": "28509016-2ad6-4e2c-9cf3-c5150c203017",
      "cell_type": "code",
      "source": "df0.groupby(\"Agency\")[\"Salary Range From\"].mean()",
      "metadata": {
        "trusted": true
      },
      "outputs": [
        {
          "execution_count": 76,
          "output_type": "execute_result",
          "data": {
            "text/plain": "Agency\nADMIN FOR CHILDREN'S SVCS        61308.827796\nADMIN TRIALS AND HEARINGS        51942.021832\nBOARD OF CORRECTION              79986.000000\nBOROUGH PRESIDENT-BRONX          47270.000000\nBOROUGH PRESIDENT-QUEENS         38333.000000\n                                     ...     \nPUBLIC ADMINISTRATOR-NEW YORK    40635.000000\nTAX COMMISSION                   65884.500000\nTAXI & LIMOUSINE COMMISSION      57665.176516\nTEACHERS RETIREMENT SYSTEM       47378.230769\nTECHNOLOGY & INNOVATION          46557.265263\nName: Salary Range From, Length: 61, dtype: float64"
          },
          "metadata": {}
        }
      ],
      "execution_count": 76
    },
    {
      "id": "4191a290-8ac7-4df1-9174-aaf778fdc664",
      "cell_type": "code",
      "source": "pd.DataFrame(df0.groupby([\"Agency\", \"Posting Type\"])[\"Salary Range From\"].mean())",
      "metadata": {
        "trusted": true
      },
      "outputs": [
        {
          "execution_count": 89,
          "output_type": "execute_result",
          "data": {
            "text/plain": "                                          Salary Range From\nAgency                      Posting Type                   \nADMIN FOR CHILDREN'S SVCS   External           61311.491216\n                            Internal           61306.329692\nADMIN TRIALS AND HEARINGS   External           51942.021832\n                            Internal           51942.021832\nBOARD OF CORRECTION         External           79986.000000\n...                                                     ...\nTAXI & LIMOUSINE COMMISSION Internal           57362.912377\nTEACHERS RETIREMENT SYSTEM  External           47366.900000\n                            Internal           47385.312500\nTECHNOLOGY & INNOVATION     External           41767.940000\n                            Internal           50040.410909\n\n[120 rows x 1 columns]",
            "text/html": "<div>\n<style scoped>\n    .dataframe tbody tr th:only-of-type {\n        vertical-align: middle;\n    }\n\n    .dataframe tbody tr th {\n        vertical-align: top;\n    }\n\n    .dataframe thead th {\n        text-align: right;\n    }\n</style>\n<table border=\"1\" class=\"dataframe\">\n  <thead>\n    <tr style=\"text-align: right;\">\n      <th></th>\n      <th></th>\n      <th>Salary Range From</th>\n    </tr>\n    <tr>\n      <th>Agency</th>\n      <th>Posting Type</th>\n      <th></th>\n    </tr>\n  </thead>\n  <tbody>\n    <tr>\n      <th rowspan=\"2\" valign=\"top\">ADMIN FOR CHILDREN'S SVCS</th>\n      <th>External</th>\n      <td>61311.491216</td>\n    </tr>\n    <tr>\n      <th>Internal</th>\n      <td>61306.329692</td>\n    </tr>\n    <tr>\n      <th rowspan=\"2\" valign=\"top\">ADMIN TRIALS AND HEARINGS</th>\n      <th>External</th>\n      <td>51942.021832</td>\n    </tr>\n    <tr>\n      <th>Internal</th>\n      <td>51942.021832</td>\n    </tr>\n    <tr>\n      <th>BOARD OF CORRECTION</th>\n      <th>External</th>\n      <td>79986.000000</td>\n    </tr>\n    <tr>\n      <th>...</th>\n      <th>...</th>\n      <td>...</td>\n    </tr>\n    <tr>\n      <th>TAXI &amp; LIMOUSINE COMMISSION</th>\n      <th>Internal</th>\n      <td>57362.912377</td>\n    </tr>\n    <tr>\n      <th rowspan=\"2\" valign=\"top\">TEACHERS RETIREMENT SYSTEM</th>\n      <th>External</th>\n      <td>47366.900000</td>\n    </tr>\n    <tr>\n      <th>Internal</th>\n      <td>47385.312500</td>\n    </tr>\n    <tr>\n      <th rowspan=\"2\" valign=\"top\">TECHNOLOGY &amp; INNOVATION</th>\n      <th>External</th>\n      <td>41767.940000</td>\n    </tr>\n    <tr>\n      <th>Internal</th>\n      <td>50040.410909</td>\n    </tr>\n  </tbody>\n</table>\n<p>120 rows × 1 columns</p>\n</div>"
          },
          "metadata": {}
        }
      ],
      "execution_count": 89
    },
    {
      "id": "4064e215-a9e1-46fe-9f7e-1777d94111aa",
      "cell_type": "code",
      "source": "df0.groupby(\"Agency\")[\"Salary Range From\"].agg([\"mean\", \"median\"])",
      "metadata": {
        "trusted": true
      },
      "outputs": [
        {
          "execution_count": 81,
          "output_type": "execute_result",
          "data": {
            "text/plain": "                                       mean   median\nAgency                                              \nADMIN FOR CHILDREN'S SVCS      61308.827796  58700.0\nADMIN TRIALS AND HEARINGS      51942.021832  50291.0\nBOARD OF CORRECTION            79986.000000  79986.0\nBOROUGH PRESIDENT-BRONX        47270.000000  47270.0\nBOROUGH PRESIDENT-QUEENS       38333.000000  38333.0\n...                                     ...      ...\nPUBLIC ADMINISTRATOR-NEW YORK  40635.000000  41483.0\nTAX COMMISSION                 65884.500000  93519.0\nTAXI & LIMOUSINE COMMISSION    57665.176516  57078.0\nTEACHERS RETIREMENT SYSTEM     47378.230769  58700.0\nTECHNOLOGY & INNOVATION        46557.265263  54100.0\n\n[61 rows x 2 columns]",
            "text/html": "<div>\n<style scoped>\n    .dataframe tbody tr th:only-of-type {\n        vertical-align: middle;\n    }\n\n    .dataframe tbody tr th {\n        vertical-align: top;\n    }\n\n    .dataframe thead th {\n        text-align: right;\n    }\n</style>\n<table border=\"1\" class=\"dataframe\">\n  <thead>\n    <tr style=\"text-align: right;\">\n      <th></th>\n      <th>mean</th>\n      <th>median</th>\n    </tr>\n    <tr>\n      <th>Agency</th>\n      <th></th>\n      <th></th>\n    </tr>\n  </thead>\n  <tbody>\n    <tr>\n      <th>ADMIN FOR CHILDREN'S SVCS</th>\n      <td>61308.827796</td>\n      <td>58700.0</td>\n    </tr>\n    <tr>\n      <th>ADMIN TRIALS AND HEARINGS</th>\n      <td>51942.021832</td>\n      <td>50291.0</td>\n    </tr>\n    <tr>\n      <th>BOARD OF CORRECTION</th>\n      <td>79986.000000</td>\n      <td>79986.0</td>\n    </tr>\n    <tr>\n      <th>BOROUGH PRESIDENT-BRONX</th>\n      <td>47270.000000</td>\n      <td>47270.0</td>\n    </tr>\n    <tr>\n      <th>BOROUGH PRESIDENT-QUEENS</th>\n      <td>38333.000000</td>\n      <td>38333.0</td>\n    </tr>\n    <tr>\n      <th>...</th>\n      <td>...</td>\n      <td>...</td>\n    </tr>\n    <tr>\n      <th>PUBLIC ADMINISTRATOR-NEW YORK</th>\n      <td>40635.000000</td>\n      <td>41483.0</td>\n    </tr>\n    <tr>\n      <th>TAX COMMISSION</th>\n      <td>65884.500000</td>\n      <td>93519.0</td>\n    </tr>\n    <tr>\n      <th>TAXI &amp; LIMOUSINE COMMISSION</th>\n      <td>57665.176516</td>\n      <td>57078.0</td>\n    </tr>\n    <tr>\n      <th>TEACHERS RETIREMENT SYSTEM</th>\n      <td>47378.230769</td>\n      <td>58700.0</td>\n    </tr>\n    <tr>\n      <th>TECHNOLOGY &amp; INNOVATION</th>\n      <td>46557.265263</td>\n      <td>54100.0</td>\n    </tr>\n  </tbody>\n</table>\n<p>61 rows × 2 columns</p>\n</div>"
          },
          "metadata": {}
        }
      ],
      "execution_count": 81
    },
    {
      "id": "21692935-67a6-4001-af11-3fea85ba6610",
      "cell_type": "code",
      "source": "def vitalstatistix(julius):\n    return julius.mean()\n    \ndf0.groupby(\"Agency\")[\"Salary Range From\"].apply(vitalstatistix)",
      "metadata": {
        "trusted": true
      },
      "outputs": [
        {
          "execution_count": 85,
          "output_type": "execute_result",
          "data": {
            "text/plain": "Agency\nADMIN FOR CHILDREN'S SVCS        61308.827796\nADMIN TRIALS AND HEARINGS        51942.021832\nBOARD OF CORRECTION              79986.000000\nBOROUGH PRESIDENT-BRONX          47270.000000\nBOROUGH PRESIDENT-QUEENS         38333.000000\n                                     ...     \nPUBLIC ADMINISTRATOR-NEW YORK    40635.000000\nTAX COMMISSION                   65884.500000\nTAXI & LIMOUSINE COMMISSION      57665.176516\nTEACHERS RETIREMENT SYSTEM       47378.230769\nTECHNOLOGY & INNOVATION          46557.265263\nName: Salary Range From, Length: 61, dtype: float64"
          },
          "metadata": {}
        }
      ],
      "execution_count": 85
    },
    {
      "id": "a4d59f2c-c181-4604-816e-d32b4e74f539",
      "cell_type": "code",
      "source": "pd.DataFrame(df0.groupby([\"Agency\", \"Posting Type\"], as_index = False)[\"Salary Range From\"].mean())",
      "metadata": {
        "trusted": true
      },
      "outputs": [
        {
          "execution_count": 97,
          "output_type": "execute_result",
          "data": {
            "text/plain": "                          Agency Posting Type  Salary Range From\n0      ADMIN FOR CHILDREN'S SVCS     External       61311.491216\n1      ADMIN FOR CHILDREN'S SVCS     Internal       61306.329692\n2      ADMIN TRIALS AND HEARINGS     External       51942.021832\n3      ADMIN TRIALS AND HEARINGS     Internal       51942.021832\n4            BOARD OF CORRECTION     External       79986.000000\n..                           ...          ...                ...\n115  TAXI & LIMOUSINE COMMISSION     Internal       57362.912377\n116   TEACHERS RETIREMENT SYSTEM     External       47366.900000\n117   TEACHERS RETIREMENT SYSTEM     Internal       47385.312500\n118      TECHNOLOGY & INNOVATION     External       41767.940000\n119      TECHNOLOGY & INNOVATION     Internal       50040.410909\n\n[120 rows x 3 columns]",
            "text/html": "<div>\n<style scoped>\n    .dataframe tbody tr th:only-of-type {\n        vertical-align: middle;\n    }\n\n    .dataframe tbody tr th {\n        vertical-align: top;\n    }\n\n    .dataframe thead th {\n        text-align: right;\n    }\n</style>\n<table border=\"1\" class=\"dataframe\">\n  <thead>\n    <tr style=\"text-align: right;\">\n      <th></th>\n      <th>Agency</th>\n      <th>Posting Type</th>\n      <th>Salary Range From</th>\n    </tr>\n  </thead>\n  <tbody>\n    <tr>\n      <th>0</th>\n      <td>ADMIN FOR CHILDREN'S SVCS</td>\n      <td>External</td>\n      <td>61311.491216</td>\n    </tr>\n    <tr>\n      <th>1</th>\n      <td>ADMIN FOR CHILDREN'S SVCS</td>\n      <td>Internal</td>\n      <td>61306.329692</td>\n    </tr>\n    <tr>\n      <th>2</th>\n      <td>ADMIN TRIALS AND HEARINGS</td>\n      <td>External</td>\n      <td>51942.021832</td>\n    </tr>\n    <tr>\n      <th>3</th>\n      <td>ADMIN TRIALS AND HEARINGS</td>\n      <td>Internal</td>\n      <td>51942.021832</td>\n    </tr>\n    <tr>\n      <th>4</th>\n      <td>BOARD OF CORRECTION</td>\n      <td>External</td>\n      <td>79986.000000</td>\n    </tr>\n    <tr>\n      <th>...</th>\n      <td>...</td>\n      <td>...</td>\n      <td>...</td>\n    </tr>\n    <tr>\n      <th>115</th>\n      <td>TAXI &amp; LIMOUSINE COMMISSION</td>\n      <td>Internal</td>\n      <td>57362.912377</td>\n    </tr>\n    <tr>\n      <th>116</th>\n      <td>TEACHERS RETIREMENT SYSTEM</td>\n      <td>External</td>\n      <td>47366.900000</td>\n    </tr>\n    <tr>\n      <th>117</th>\n      <td>TEACHERS RETIREMENT SYSTEM</td>\n      <td>Internal</td>\n      <td>47385.312500</td>\n    </tr>\n    <tr>\n      <th>118</th>\n      <td>TECHNOLOGY &amp; INNOVATION</td>\n      <td>External</td>\n      <td>41767.940000</td>\n    </tr>\n    <tr>\n      <th>119</th>\n      <td>TECHNOLOGY &amp; INNOVATION</td>\n      <td>Internal</td>\n      <td>50040.410909</td>\n    </tr>\n  </tbody>\n</table>\n<p>120 rows × 3 columns</p>\n</div>"
          },
          "metadata": {}
        }
      ],
      "execution_count": 97
    },
    {
      "id": "1f1e8c74-2ae5-41a1-9dc0-a5906f716dd4",
      "cell_type": "code",
      "source": "",
      "metadata": {
        "trusted": true
      },
      "outputs": [],
      "execution_count": null
    }
  ]
}