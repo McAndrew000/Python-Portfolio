{
  "metadata": {
    "kernelspec": {
      "name": "python",
      "display_name": "Python (Pyodide)",
      "language": "python"
    },
    "language_info": {
      "codemirror_mode": {
        "name": "python",
        "version": 3
      },
      "file_extension": ".py",
      "mimetype": "text/x-python",
      "name": "python",
      "nbconvert_exporter": "python",
      "pygments_lexer": "ipython3",
      "version": "3.8"
    }
  },
  "nbformat_minor": 5,
  "nbformat": 4,
  "cells": [
    {
      "id": "37763db6-fa3b-4f9c-b182-d963bcc6e2fd",
      "cell_type": "code",
      "source": "#Basic Math Operations\n\n\n\n#Add two numbers\ndef add(a,b):\n    return a + b\nprint(add(1,2))\n\n\n\n#Subtract two numbers\ndef sub(a,b):\n    return a - b\nprint(sub(1,2))\n\n\n\n#Multiply two numbers\ndef mult(a,b):\n    return a * b\nprint(mult(1, 2))\n\n\n\n#Check for 0\ndef zerocheck(a):\n    if a == 0:\n        return \"iszero\"\n    elif a != 0:\n        return \"notzero\"\nprint(zerocheck(0))\nprint(zerocheck(1))\nprint(zerocheck(0/1))\n\n\n\n#Divides while checking if denominator is zero\ndef div(a,b):\n    if zerocheck(b) == \"notzero\":\n        return a / b\n    else:\n        print(\"denominator is zero\")\nprint(div(8,3))\nprint(div(4,0))\n\n\n\n#Checks for negative values\ndef negcheck(a):\n    if a < 0:\n        return \"isnegative\"\n    else:\n        return \"notnegative\"\nprint(negcheck(3), negcheck(-4), negcheck(5))\n\n\n\n#Finds the square root while checking for negative values\ndef sqrt(a):\n    if negcheck(a) == \"isnegative\":\n        print(\"value is negative\")\n    else:\n        return a**(1/2)\n\nprint(sqrt(-3), sqrt(-4), sqrt(3), sqrt(4))\n\n\n\n#Finds 'a' to the power of 'b'\ndef exp(a,b):\n    return a**b\n\nprint(exp(4,2), exp(3,3), exp(8,4), exp(0,1), exp(1,0))",
      "metadata": {
        "trusted": true
      },
      "outputs": [
        {
          "name": "stdout",
          "output_type": "stream",
          "text": "3\n-1\n2\niszero\nnotzero\niszero\n2.6666666666666665\ndenominator is zero\nNone\nnotnegative isnegative notnegative\nvalue is negative\nvalue is negative\nNone None 1.7320508075688772 2.0\n16 27 4096 0 1\n"
        }
      ],
      "execution_count": 9
    },
    {
      "id": "063aee6d-7213-410f-87d4-91eb11742455",
      "cell_type": "markdown",
      "source": "",
      "metadata": {}
    }
  ]
}