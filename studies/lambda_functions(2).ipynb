{
  "metadata": {
    "kernelspec": {
      "name": "python",
      "display_name": "Python (Pyodide)",
      "language": "python"
    },
    "language_info": {
      "codemirror_mode": {
        "name": "python",
        "version": 3
      },
      "file_extension": ".py",
      "mimetype": "text/x-python",
      "name": "python",
      "nbconvert_exporter": "python",
      "pygments_lexer": "ipython3",
      "version": "3.8"
    }
  },
  "nbformat_minor": 5,
  "nbformat": 4,
  "cells": [
    {
      "id": "880a613f-6250-454e-a478-d7f04dfb8462",
      "cell_type": "code",
      "source": "identity = lambda x: x\nprint(identity(2))\n\n(lambda x: x)(3)",
      "metadata": {
        "trusted": true
      },
      "outputs": [
        {
          "name": "stdout",
          "output_type": "stream",
          "text": "2\n"
        },
        {
          "execution_count": 4,
          "output_type": "execute_result",
          "data": {
            "text/plain": "3"
          },
          "metadata": {}
        }
      ],
      "execution_count": 4
    },
    {
      "id": "3c5af28c-679a-49c7-8310-f74bd0d66d49",
      "cell_type": "code",
      "source": "add_one = lambda x: x + 1\nadd_one(4)",
      "metadata": {
        "trusted": true
      },
      "outputs": [
        {
          "execution_count": 5,
          "output_type": "execute_result",
          "data": {
            "text/plain": "5"
          },
          "metadata": {}
        }
      ],
      "execution_count": 5
    },
    {
      "id": "6beb5b0f-4e34-4800-a4e8-ff5a5bdf7b8b",
      "cell_type": "code",
      "source": "def add_one(x):\n    return x + 1\n\nadd_one(7)",
      "metadata": {
        "trusted": true
      },
      "outputs": [
        {
          "execution_count": 6,
          "output_type": "execute_result",
          "data": {
            "text/plain": "8"
          },
          "metadata": {}
        }
      ],
      "execution_count": 6
    },
    {
      "id": "39a2e331-aa13-4fda-966f-68ed1b79a99b",
      "cell_type": "code",
      "source": "# kramer = (x + 1) * x\n\nkramer = lambda x: add_one(x) * identity(x)\nkramer(3)\n\n#cosmo = sqrt((x + 1) * x)\n\ncosmo = lambda x: kramer(x) ** (1/2)\n\n#heybuddy = ((x + 1) * x) + sqrt((x + 1) * x)\n\nheybuddy = lambda jerry, hello: cosmo(jerry) + kramer(hello)\n\n# Result of sqrt((8 + 1) * 8) + ((3 + 1) * 3)\n\nheybuddy(8, 3)",
      "metadata": {
        "trusted": true
      },
      "outputs": [
        {
          "execution_count": 7,
          "output_type": "execute_result",
          "data": {
            "text/plain": "20.485281374238568"
          },
          "metadata": {}
        }
      ],
      "execution_count": 7
    },
    {
      "id": "129483a4-7133-40f6-9635-0640ea31376f",
      "cell_type": "code",
      "source": "full_name = lambda first, last: f'Full name: {first.title()} {last.title()}'\nprint(full_name('Larry', 'David') + \"\\n\" + full_name('George', 'Costanza'))",
      "metadata": {
        "trusted": true
      },
      "outputs": [
        {
          "name": "stdout",
          "output_type": "stream",
          "text": "Full name: Larry David\nFull name: George Costanza\n"
        }
      ],
      "execution_count": 8
    }
  ]
}