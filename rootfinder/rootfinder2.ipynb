{
  "metadata": {
    "kernelspec": {
      "name": "python",
      "display_name": "Python (Pyodide)",
      "language": "python"
    },
    "language_info": {
      "codemirror_mode": {
        "name": "python",
        "version": 3
      },
      "file_extension": ".py",
      "mimetype": "text/x-python",
      "name": "python",
      "nbconvert_exporter": "python",
      "pygments_lexer": "ipython3",
      "version": "3.8"
    }
  },
  "nbformat_minor": 5,
  "nbformat": 4,
  "cells": [
    {
      "id": "2d03c069-0c3f-4aff-9f34-45b9f0cb82ce",
      "cell_type": "markdown",
      "source": "Hello, and welcome to my pyodide version of Root Finder, which finds the roots of a polynomial structured as\n\n<b>ax^2 + bx + c,</b>\n\nwhere <b>a</b>, <b>b</b>, and <b>c</b> are the constants of the expression.",
      "metadata": {}
    },
    {
      "id": "97a1758e-4cae-4358-8917-f18edf794c04",
      "cell_type": "code",
      "source": "#inputs\n\na = 0\nb = 0\nc = 0",
      "metadata": {
        "trusted": true
      },
      "outputs": [],
      "execution_count": 30
    },
    {
      "id": "3ffce023-97bd-4b4d-8aff-837966567a83",
      "cell_type": "code",
      "source": "def root_finder():\n\n    if a == 0:\n        \n        if b != 0:\n            \n            answer1 = (-c/b)\n            print(\"This linear function has one real root:\")\n            print(answer1)\n            \n        elif b == 0:\n            \n            print(\"This function is a constant. Roots are indeterminable.\")\n            \n    elif 4*a*c > b**2:\n        \n        print(\"This quadratic has no real roots.\")\n        \n    elif 4*a*c == b**2 and a != 0:\n        \n        answer1 = (-b + (b**2 - 4*a*c)**(1/2))/(2*a)\n        print(\"This quadratic has one real root:\")\n        print(str(answer1))\n        \n    elif 4*a*c < b**2 and a != 0:\n        \n        root1 = (-b + (b**2 - 4*a*c)**(1/2))/(2*a)\n        root2 = (-b - (b**2 - 4*a*c)**(1/2))/(2*a)\n        \n        answer1 = str(root1)\n        answer2 = str(root2)\n        \n        print(\"This quadratic has two real roots: \")\n        print(answer1)\n        print(answer2)\n\nroot_finder()",
      "metadata": {
        "trusted": true
      },
      "outputs": [
        {
          "name": "stdout",
          "output_type": "stream",
          "text": "This function is a constant. Roots are indeterminable.\n"
        }
      ],
      "execution_count": 31
    },
    {
      "id": "83bcdf2a-020c-4ac7-ab11-d3b42aacbe74",
      "cell_type": "code",
      "source": "a = 0\nb = 5\nc = 10\n\nroot_finder()",
      "metadata": {
        "trusted": true
      },
      "outputs": [
        {
          "name": "stdout",
          "output_type": "stream",
          "text": "This linear function has one real root:\n-2.0\n"
        }
      ],
      "execution_count": 36
    },
    {
      "id": "3e631f98-9c44-475c-aeb4-b6c81562fd5d",
      "cell_type": "code",
      "source": "a = 1\nb = 1\nc = 0\n\nroot_finder()",
      "metadata": {
        "trusted": true
      },
      "outputs": [
        {
          "name": "stdout",
          "output_type": "stream",
          "text": "This quadratic has two real roots: \n0.0\n-1.0\n"
        }
      ],
      "execution_count": 38
    },
    {
      "id": "10384292-f680-45b3-bb76-7bc214e87613",
      "cell_type": "code",
      "source": "a = 0\nb = 10\nc = 3\n\nroot_finder()",
      "metadata": {
        "trusted": true
      },
      "outputs": [
        {
          "name": "stdout",
          "output_type": "stream",
          "text": "This linear function has one real root:\n-0.3\n"
        }
      ],
      "execution_count": 34
    },
    {
      "id": "b484d423-7d22-4ca2-9355-eeae231284e4",
      "cell_type": "code",
      "source": "a = 1\nb = 2\nc = 1\n\nroot_finder()",
      "metadata": {
        "trusted": true
      },
      "outputs": [
        {
          "name": "stdout",
          "output_type": "stream",
          "text": "This quadratic has one real root:\n-1.0\n"
        }
      ],
      "execution_count": 35
    },
    {
      "id": "146332cd-2d1f-4040-8f3f-5f86eca7ece6",
      "cell_type": "code",
      "source": "a = 1\nb = 1\nc = 3\n\nroot_finder()",
      "metadata": {
        "trusted": true
      },
      "outputs": [
        {
          "name": "stdout",
          "output_type": "stream",
          "text": "This quadratic has no real roots.\n"
        }
      ],
      "execution_count": 39
    },
    {
      "id": "e0748f95-d98c-4f24-a1ab-1834031c8c24",
      "cell_type": "code",
      "source": "",
      "metadata": {
        "trusted": true
      },
      "outputs": [],
      "execution_count": null
    }
  ]
}