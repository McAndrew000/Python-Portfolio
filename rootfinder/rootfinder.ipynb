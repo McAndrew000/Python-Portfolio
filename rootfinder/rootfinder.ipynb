{
  "metadata": {
    "kernelspec": {
      "name": "python",
      "display_name": "Python (Pyodide)",
      "language": "python"
    },
    "language_info": {
      "codemirror_mode": {
        "name": "python",
        "version": 3
      },
      "file_extension": ".py",
      "mimetype": "text/x-python",
      "name": "python",
      "nbconvert_exporter": "python",
      "pygments_lexer": "ipython3",
      "version": "3.8"
    }
  },
  "nbformat_minor": 5,
  "nbformat": 4,
  "cells": [
    {
      "id": "2d03c069-0c3f-4aff-9f34-45b9f0cb82ce",
      "cell_type": "markdown",
      "source": "Hello, and welcome to my pyodide version of Root Finder, which finds the roots of a polynomial structured as\n\n<b>ax^2 + bx + c,</b>\n\nwhere a, b, and c are the constants of the expression.",
      "metadata": {}
    },
    {
      "id": "97a1758e-4cae-4358-8917-f18edf794c04",
      "cell_type": "code",
      "source": "#inputs\n\na = 0\nb = 0\nc = 0",
      "metadata": {
        "trusted": true
      },
      "outputs": [],
      "execution_count": 23
    },
    {
      "id": "3ffce023-97bd-4b4d-8aff-837966567a83",
      "cell_type": "code",
      "source": "def root_finder():\n\n    if a == 0:\n        \n        if b != 0:\n            \n            answer1 = (-c/b)\n            print(\"This linear function has one real root:\")\n            print(answer1)\n            \n        elif b == 0:\n            \n            print(\"This function is a constant. Roots are indeterminable.\")\n            \n    elif 4*a*c > b**2:\n        \n        print(\"This quadratic has no real roots.\")\n        \n    elif 4*a*c == b**2 and a != 0:\n        \n        answer1 = (-b + (b**2 - 4*a*c)**(1/2))/(2*a)\n        print(\"This quadratic has one real root:\")\n        print(str(answer1))\n        \n    elif 4*a*c < b**2 and a != 0:\n        \n        root1 = (-b + (b**2 - 4*a*c)**(1/2))/(2*a)\n        root2 = (-b - (b**2 - 4*a*c)**(1/2))/(2*a)\n        \n        answer1 = str(root1)\n        answer2 = str(root2)\n        \n        print(\"This quadratic has two real roots: \")\n        print(answer1)\n        print(answer2)\n\nroot_finder()",
      "metadata": {
        "trusted": true
      },
      "outputs": [
        {
          "name": "stdout",
          "output_type": "stream",
          "text": "This function is a constant. Roots are indeterminable.\n"
        }
      ],
      "execution_count": 24
    }
  ]
}
